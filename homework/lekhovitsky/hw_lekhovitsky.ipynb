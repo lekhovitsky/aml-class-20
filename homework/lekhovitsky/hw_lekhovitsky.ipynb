{
 "cells": [
  {
   "cell_type": "code",
   "execution_count": 1,
   "metadata": {},
   "outputs": [],
   "source": [
    "from autolearn import train_regressor"
   ]
  },
  {
   "cell_type": "code",
   "execution_count": 2,
   "metadata": {},
   "outputs": [],
   "source": [
    "url = \"https://s3.amazonaws.com/datarobot_public_datasets/\" \\\n",
    "          \"DR_Demo_Fire_Ins_Loss_only.csv\"\n",
    "\n",
    "target = 'loss'\n",
    "\n",
    "dtypes = {\n",
    "    'crime_burglary': 'numeric',\n",
    "    'crime_risk': 'numeric',\n",
    "    'ISO_desc': 'text',\n",
    "    'Norm_fire_risk': 'numeric',\n",
    "    'crime_arson': 'numeric',\n",
    "    'ISO': 'numeric',\n",
    "    'Weather_risk': 'numeric',\n",
    "    'Geographical_risk': 'numeric',\n",
    "    'Premium_remain': 'numeric',\n",
    "    'Renewal_Type': 'categorical',\n",
    "    'Commercial': 'categorical',\n",
    "    'crime_property_type': 'numeric',\n",
    "    'Renewal_class': 'categorical',\n",
    "    'crime_neighbour_watch': 'numeric',\n",
    "    'Previous_claims': 'numeric',\n",
    "    'Exposure': 'numeric',\n",
    "    'crime_area': 'numeric',\n",
    "    'ISO_cat': 'categorical',\n",
    "    'Norm_monthly_rent': 'numeric',\n",
    "    'No_claim_Years': 'numeric',\n",
    "    'crime_residents': 'numeric',\n",
    "    'Norm_area_m': 'numeric',\n",
    "    'Rating_Class': 'categorical',\n",
    "    'Property_size': 'numeric',\n",
    "    'Residents': 'numeric',\n",
    "    'crime_community': 'numeric',\n",
    "    'Loan_mortgage': 'numeric',\n",
    "    'Premium_renew': 'numeric',\n",
    "    'Sub_Renewal_Class': 'categorical',\n",
    "    'Sub_Rating_Class': 'categorical'\n",
    "}"
   ]
  },
  {
   "cell_type": "code",
   "execution_count": 3,
   "metadata": {},
   "outputs": [
    {
     "name": "stdout",
     "output_type": "stream",
     "text": [
      "Loading the dataset...\n",
      "Dataset loaded. Shape: (1217, 31)\n",
      "\n",
      "\n",
      "Fitting LR...\n",
      "Cross-validation score: -0.177\n",
      "\n",
      "Fitting SVR...\n",
      "Cross-validation score: -0.048\n",
      "\n",
      "Fitting GBM...\n",
      "Cross-validation score: -0.036\n",
      "\n",
      "Fitting RF...\n",
      "Cross-validation score: -0.036\n",
      "\n",
      "Fitting RF on the full train set...\n",
      "Test-set score: -0.0357\n",
      "Best params:\n",
      "    estimator__n_estimators: 66\n",
      "    estimator__max_features: auto\n",
      "    estimator__max_depth: 4\n",
      "    estimator__criterion: mse\n"
     ]
    }
   ],
   "source": [
    "estimator, test_score, cv_score = train_regressor(\n",
    "    url, target=target, dtypes=dtypes, \n",
    "    scoring='neg_mean_absolute_error', \n",
    "    verbose=True)"
   ]
  },
  {
   "cell_type": "code",
   "execution_count": null,
   "metadata": {},
   "outputs": [],
   "source": []
  }
 ],
 "metadata": {
  "kernelspec": {
   "display_name": "Python 3",
   "language": "python",
   "name": "python3"
  },
  "language_info": {
   "codemirror_mode": {
    "name": "ipython",
    "version": 3
   },
   "file_extension": ".py",
   "mimetype": "text/x-python",
   "name": "python",
   "nbconvert_exporter": "python",
   "pygments_lexer": "ipython3",
   "version": "3.8.2"
  }
 },
 "nbformat": 4,
 "nbformat_minor": 4
}
